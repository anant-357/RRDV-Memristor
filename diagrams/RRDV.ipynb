{
  "nbformat": 4,
  "nbformat_minor": 0,
  "metadata": {
    "colab": {
      "provenance": [],
      "gpuType": "T4"
    },
    "kernelspec": {
      "name": "python3",
      "display_name": "Python 3"
    },
    "language_info": {
      "name": "python"
    },
    "accelerator": "GPU"
  },
  "cells": [
    {
      "cell_type": "code",
      "source": [
        "import tensorflow as tf\n",
        "\n",
        "(x_train, y_train), (x_test, y_test) = tf.keras.datasets.boston_housing.load_data(\n",
        "    path='boston_housing.npz', test_split=0.1, seed=113\n",
        ")\n",
        "T = x_train.shape[0]"
      ],
      "metadata": {
        "id": "CKbHXgJ5Bkn2"
      },
      "execution_count": null,
      "outputs": []
    },
    {
      "cell_type": "code",
      "execution_count": null,
      "metadata": {
        "id": "L2lB8MjQ-O9i"
      },
      "outputs": [],
      "source": [
        "import numpy as np\n",
        "from typing import Callable\n",
        "from sklearn.metrics import mean_squared_error\n",
        "\n",
        "\n",
        "class RRDV():\n",
        "  def __init__(self, kernel: Callable[[np.ndarray, np.ndarray], np.ndarray], a: float):\n",
        "    self.kernel = kernel\n",
        "    self.a = a\n",
        "\n",
        "  # dim y = T\n",
        "  def optimize(self, X: np.ndarray, y: np.ndarray):\n",
        "    self.X = X\n",
        "    self.y = y\n",
        "    K = self.kernel(X,X)\n",
        "    I = np.eye(K.shape[0])\n",
        "    self.optimized = np.linalg.inv((K + self.a * I))\n",
        "\n",
        "  def predict(self, x: np.ndarray):\n",
        "    k = self.kernel(self.X, x)\n",
        "    return  np.matmul(self.y, np.matmul(self.optimized, k))\n"
      ]
    },
    {
      "cell_type": "code",
      "source": [
        "def linear_kernel(x1: np.ndarray, x2: np.ndarray):\n",
        "  return np.dot(x1 , x2.T)"
      ],
      "metadata": {
        "id": "c1EfU3yY-b4S"
      },
      "execution_count": null,
      "outputs": []
    },
    {
      "cell_type": "code",
      "source": [
        "def poly_kernel(x1: np.ndarray, x2: np.ndarray):\n",
        "  return (np.dot(x1 , x2.T) + 1)**2"
      ],
      "metadata": {
        "id": "FcHfVvarBEn8"
      },
      "execution_count": null,
      "outputs": []
    },
    {
      "cell_type": "code",
      "source": [
        "def gauss_kernel(x1: np.ndarray, x2: np.ndarray, sigma=1.0):\n",
        "    sq_dists = np.sum(x1**2, axis=1).reshape(-1, 1) + np.sum(x2**2, axis=1) - 2 * np.dot(x1, x2.T)\n",
        "    return np.exp(-sq_dists / (2 * sigma**2))"
      ],
      "metadata": {
        "id": "on6MFRCSCS0l"
      },
      "execution_count": null,
      "outputs": []
    },
    {
      "cell_type": "code",
      "source": [
        "lin = RRDV(linear_kernel, 7)\n",
        "lin.optimize(x_train, y_train)\n",
        "y_pred = lin.predict(x_test)\n",
        "mse = mean_squared_error(y_test, y_pred)\n",
        "print(\"Mean Squared Error:\", mse)"
      ],
      "metadata": {
        "id": "FNc-3mmqqVtt",
        "colab": {
          "base_uri": "https://localhost:8080/"
        },
        "outputId": "7a2b3671-6ffc-4215-edc0-412aa3b15f6a"
      },
      "execution_count": null,
      "outputs": [
        {
          "output_type": "stream",
          "name": "stdout",
          "text": [
            "Mean Squared Error: 30.105696642090972\n"
          ]
        }
      ]
    },
    {
      "cell_type": "code",
      "source": [
        "lin = RRDV(poly_kernel, 0.8)\n",
        "lin.optimize(x_train, y_train)\n",
        "y_pred = lin.predict(x_test)\n",
        "mse = mean_squared_error(y_test, y_pred)\n",
        "print(\"Mean Squared Error:\", mse)"
      ],
      "metadata": {
        "colab": {
          "base_uri": "https://localhost:8080/"
        },
        "id": "D5d8lBUQBgJ-",
        "outputId": "d0a15e67-8ab0-4945-d82b-e0f8fe4fca31"
      },
      "execution_count": null,
      "outputs": [
        {
          "output_type": "stream",
          "name": "stdout",
          "text": [
            "Mean Squared Error: 20.96472732897727\n"
          ]
        }
      ]
    },
    {
      "cell_type": "code",
      "source": [
        "lin = RRDV(gauss_kernel, 100)\n",
        "lin.optimize(x_train, y_train)\n",
        "y_pred = lin.predict(x_test)\n",
        "mse = mean_squared_error(y_test, y_pred)\n",
        "print(\"Mean Squared Error:\", mse)"
      ],
      "metadata": {
        "colab": {
          "base_uri": "https://localhost:8080/"
        },
        "id": "nspNH5mMCYPx",
        "outputId": "ebb24f66-4a71-4040-99f7-f43b3fc0bedc"
      },
      "execution_count": null,
      "outputs": [
        {
          "output_type": "stream",
          "name": "stdout",
          "text": [
            "Mean Squared Error: 648.4483095428013\n"
          ]
        }
      ]
    },
    {
      "cell_type": "code",
      "source": [],
      "metadata": {
        "id": "wh9AkWNnBjxj"
      },
      "execution_count": null,
      "outputs": []
    }
  ]
}